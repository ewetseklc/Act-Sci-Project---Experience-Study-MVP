{
 "cells": [
  {
   "cell_type": "markdown",
   "id": "33b61615",
   "metadata": {},
   "source": [
    "# Experience Study MVP (Lapse) — Starter Notebook\n",
    "\n",
    "Compute crude lapse rates by duration and apply a simple Bühlmann-Straub credibility blend.\n",
    "\n",
    "**Outputs:** CSV tables + PNG charts in `../results/`"
   ]
  },
  {
   "cell_type": "code",
   "execution_count": null,
   "id": "804d6d48",
   "metadata": {},
   "outputs": [],
   "source": [
    "\n",
    "import pandas as pd\n",
    "import numpy as np\n",
    "import matplotlib.pyplot as plt\n",
    "from pathlib import Path\n",
    "\n",
    "DATA_DIR = Path(\"../data\")\n",
    "RESULTS_DIR = Path(\"../results\")\n",
    "RESULTS_DIR.mkdir(parents=True, exist_ok=True)\n",
    "\n",
    "panel = pd.read_csv(DATA_DIR / \"synthetic_policy_months.csv\")\n",
    "panel.head()\n"
   ]
  },
  {
   "cell_type": "code",
   "execution_count": null,
   "id": "35969f6e",
   "metadata": {},
   "outputs": [],
   "source": [
    "\n",
    "grp = panel.groupby(\"duration_month\").agg(\n",
    "    exposure=(\"exposure\", \"sum\"),\n",
    "    lapses=(\"termination_lapse\", \"sum\")\n",
    ").reset_index()\n",
    "grp[\"crude_lapse_rate\"] = grp[\"lapses\"] / grp[\"exposure\"]\n",
    "grp.to_csv(RESULTS_DIR / \"lapse_rates_by_duration.csv\", index=False)\n",
    "grp.head(12)\n"
   ]
  },
  {
   "cell_type": "code",
   "execution_count": null,
   "id": "03acb00c",
   "metadata": {},
   "outputs": [],
   "source": [
    "\n",
    "k = 50.0\n",
    "overall = panel[\"termination_lapse\"].sum() / panel[\"exposure\"].sum()\n",
    "grp[\"Z\"] = grp[\"exposure\"] / (grp[\"exposure\"] + k)\n",
    "grp[\"cred_lapse_rate\"] = grp[\"Z\"] * grp[\"crude_lapse_rate\"] + (1 - grp[\"Z\"]) * overall\n",
    "\n",
    "grp.to_csv(RESULTS_DIR / \"lapse_rates_by_duration_cred.csv\", index=False)\n",
    "\n",
    "plt.figure()\n",
    "plt.plot(grp[\"duration_month\"], grp[\"crude_lapse_rate\"], label=\"Crude\")\n",
    "plt.plot(grp[\"duration_month\"], grp[\"cred_lapse_rate\"], label=\"Credibility\")\n",
    "plt.title(\"Lapse Rate by Duration (Crude vs Credibility)\")\n",
    "plt.xlabel(\"Duration (months)\")\n",
    "plt.ylabel(\"Lapse Rate\")\n",
    "plt.legend()\n",
    "plt.tight_layout()\n",
    "plt.savefig(RESULTS_DIR / \"lapse_curve.png\", dpi=150)\n",
    "plt.show()\n"
   ]
  },
  {
   "cell_type": "code",
   "execution_count": null,
   "id": "f117cd06",
   "metadata": {},
   "outputs": [],
   "source": [
    "\n",
    "dim = panel.groupby([\"duration_month\", \"risk_class\"]).agg(\n",
    "    exposure=(\"exposure\", \"sum\"),\n",
    "    lapses=(\"termination_lapse\", \"sum\")\n",
    ").reset_index()\n",
    "dim[\"crude_lapse_rate\"] = dim[\"lapses\"] / dim[\"exposure\"]\n",
    "overall_by_rc = dim.groupby(\"risk_class\").apply(lambda df: df[\"lapses\"].sum() / df[\"exposure\"].sum()).to_dict()\n",
    "k = 50.0\n",
    "dim[\"Z\"] = dim[\"exposure\"] / (dim[\"exposure\"] + k)\n",
    "dim[\"overall_rc\"] = dim[\"risk_class\"].map(overall_by_rc)\n",
    "dim[\"cred_lapse_rate\"] = dim[\"Z\"] * dim[\"crude_lapse_rate\"] + (1 - dim[\"Z\"]) * dim[\"overall_rc\"]\n",
    "dim.to_csv(RESULTS_DIR / \"lapse_rates_by_duration_risk.csv\", index=False)\n",
    "\n",
    "for rc in [\"Standard\", \"Preferred\"]:\n",
    "    sub = dim[dim[\"risk_class\"] == rc].sort_values(\"duration_month\")\n",
    "    plt.figure()\n",
    "    plt.plot(sub[\"duration_month\"], sub[\"crude_lapse_rate\"], label=f\"{rc} - Crude\")\n",
    "    plt.plot(sub[\"duration_month\"], sub[\"cred_lapse_rate\"], label=f\"{rc} - Credibility\")\n",
    "    plt.title(f\"Lapse Rate by Duration — {rc}\")\n",
    "    plt.xlabel(\"Duration (months)\")\n",
    "    plt.ylabel(\"Lapse Rate\")\n",
    "    plt.legend()\n",
    "    plt.tight_layout()\n",
    "    plt.savefig(RESULTS_DIR / f\"lapse_curve_{rc.lower()}.png\", dpi=150)\n",
    "    plt.show()\n"
   ]
  }
 ],
 "metadata": {},
 "nbformat": 4,
 "nbformat_minor": 5
}
